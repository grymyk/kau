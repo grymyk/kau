{
 "cells": [
  {
   "cell_type": "code",
   "execution_count": 26,
   "metadata": {},
   "outputs": [
    {
     "name": "stdout",
     "output_type": "stream",
     "text": [
      "[[4.44089210e-16]\n",
      " [4.24264069e+00]]\n"
     ]
    }
   ],
   "source": [
    "import numpy as np\n",
    "\n",
    "v = np.array([\n",
    "    [3],\n",
    "    [3]\n",
    "])\n",
    "\n",
    "theta = np.pi/4\n",
    "\n",
    "sin_th = np.sin(theta)\n",
    "cos_th = np.cos(theta)\n",
    "\n",
    "givens_rot = np.array([[ cos_th, -sin_th],\n",
    "                       [ sin_th, cos_th]])\n",
    "\n",
    "q = 0\n",
    "# print(givens_rot)\n",
    "# print(v)\n",
    "\n",
    "print(givens_rot.dot(v))"
   ]
  },
  {
   "cell_type": "code",
   "execution_count": 39,
   "metadata": {},
   "outputs": [
    {
     "name": "stdout",
     "output_type": "stream",
     "text": [
      "[[25]\n",
      " [ 0]]\n"
     ]
    }
   ],
   "source": [
    "# R = np.array([\n",
    "#     [1, 2],\n",
    "#     [3, 4]\n",
    "# ])\n",
    "\n",
    "R = np.array([\n",
    "    [3, 4],\n",
    "    [-4, 3]\n",
    "])\n",
    "\n",
    "v = [\n",
    "    [3],\n",
    "    [4]\n",
    "]     \n",
    "\n",
    "\n",
    "print(R.dot(v))\n",
    "\n"
   ]
  },
  {
   "cell_type": "code",
   "execution_count": 75,
   "metadata": {},
   "outputs": [
    {
     "name": "stdout",
     "output_type": "stream",
     "text": [
      "[[25]\n",
      " [ 0]\n",
      " [ 0]\n",
      " [ 0]]\n"
     ]
    }
   ],
   "source": [
    "R = np.array([\n",
    "    [3, 0, 4, 0],\n",
    "    [0, 1, 0, 0],\n",
    "    [-4, 0, 3, 0,],\n",
    "    [0, 0, 0, 1],\n",
    "])\n",
    "\n",
    "v = [\n",
    "    [3],\n",
    "    [0],\n",
    "    [4],\n",
    "    [0]\n",
    "]\n",
    "\n",
    "print(np.dot(R, v))"
   ]
  },
  {
   "cell_type": "code",
   "execution_count": null,
   "metadata": {},
   "outputs": [],
   "source": []
  },
  {
   "cell_type": "code",
   "execution_count": null,
   "metadata": {},
   "outputs": [],
   "source": []
  },
  {
   "cell_type": "code",
   "execution_count": null,
   "metadata": {},
   "outputs": [],
   "source": []
  },
  {
   "cell_type": "code",
   "execution_count": null,
   "metadata": {},
   "outputs": [],
   "source": []
  },
  {
   "cell_type": "code",
   "execution_count": null,
   "metadata": {},
   "outputs": [],
   "source": []
  },
  {
   "cell_type": "code",
   "execution_count": null,
   "metadata": {},
   "outputs": [],
   "source": []
  }
 ],
 "metadata": {
  "kernelspec": {
   "display_name": "Python 3",
   "language": "python",
   "name": "python3"
  },
  "language_info": {
   "codemirror_mode": {
    "name": "ipython",
    "version": 3
   },
   "file_extension": ".py",
   "mimetype": "text/x-python",
   "name": "python",
   "nbconvert_exporter": "python",
   "pygments_lexer": "ipython3",
   "version": "3.6.8"
  }
 },
 "nbformat": 4,
 "nbformat_minor": 4
}
