{
 "cells": [
  {
   "cell_type": "markdown",
   "metadata": {},
   "source": [
    "Today I want to talk about Givens rotations.  Givens rotations are a generalization of the rotation matrix you might remember from high school trig class.  Instead of rotating in the plane of a 2D matrix, we can rotated in any plane of a larger dimension matrix.  We'll use these rotations to selectively place zeros in a target matrix.  <!--more-->"
   ]
  },
  {
   "cell_type": "markdown",
   "metadata": {},
   "source": [
    "### Rotations"
   ]
  },
  {
   "cell_type": "code",
   "execution_count": 1,
   "metadata": {},
   "outputs": [],
   "source": [
    "import numpy as np\n",
    "import numpy.linalg as nla\n",
    "import matplotlib.pyplot as plt\n",
    "%matplotlib inline\n",
    "np.set_printoptions(suppress=True) # no excessive scientific notation"
   ]
  },
  {
   "cell_type": "markdown",
   "metadata": {},
   "source": [
    "I wanted to remind myself about the simplest possible rotations we make.  `matplotlib` didn't make me super happy, when I went to plot \"pedagogical\" vectors like you'd find in a trig. textbook.  The `matplotlib` interface (for `quiver` - i.e., a quiver of arrows/vectors) is designed for the use case of full-on \"vector fields\" that are very useful to visualize dynamic systems.  So, I wrote a small wrapper that did what I want:"
   ]
  },
  {
   "cell_type": "code",
   "execution_count": 2,
   "metadata": {},
   "outputs": [],
   "source": [
    "# adding an orientation would be nice\n",
    "def sane_quiver(vs, ax=None, colors=None):\n",
    "    '''plot (0,0) origin column vectors'''\n",
    "    vs = np.asarray(vs)\n",
    "    assert vs.ndim == 2 and vs.shape[1] == 2  # ensure column vectors\n",
    "    n = vs.shape[0]\n",
    "    if not ax: ax = plt.gca()\n",
    "\n",
    "    zs = np.zeros(n)\n",
    "    xs = vs.T[0]\n",
    "    ys = vs.T[1]\n",
    "    \n",
    "    props = {\"angles\":'xy', 'scale':1, 'scale_units':'xy'}\n",
    "    ax.quiver(zs, zs, xs, ys, color=colors, **props)\n",
    "\n",
    "    ax.set_aspect('equal')\n",
    "    ax.set_axis_off()\n",
    "    # if not square:\n",
    "    #ax.set_xlim(xs.min()-1, xs.max()+1)\n",
    "    #ax.set_ylim(ys.min()-1, ys.max()+1)\n",
    "    # else: # square axes frame\n",
    "    _min, _max = vs.min()-1, vs.max()+1\n",
    "    ax.set_xlim(_min, _max)\n",
    "    ax.set_ylim(_min, _max)\n",
    "        "
   ]
  },
  {
   "cell_type": "markdown",
   "metadata": {},
   "source": [
    "Let's make a small test vector and a simple rotation:"
   ]
  },
  {
   "cell_type": "code",
   "execution_count": 3,
   "metadata": {},
   "outputs": [],
   "source": [
    "x = np.array([1.0, 1.0])\n",
    "\n",
    "theta = np.pi/2\n",
    "\n",
    "sin_th = np.sin(theta)\n",
    "cos_th = np.cos(theta)\n",
    "\n",
    "givens_rot = np.array([[ cos_th, sin_th],\n",
    "                       [-sin_th, cos_th]])"
   ]
  },
  {
   "cell_type": "markdown",
   "metadata": {},
   "source": [
    "Premultiplication by the transpose of `givens_rot` will rotate a vector *counter-clockwise* (CCW) in the *xy*-plane.  I'm not sure when/where/why/how the Givens form is the transpose form of the usual, highschool trig. textbook form (see, for example the definition of [\"high school\" R here](https://en.wikipedia.org/wiki/Rotation_matrix) and [Givens G here](https://en.wikipedia.org/wiki/Givens_rotation).  Also, $G$ agrees with the venerable Golab & VanLoan (3rd, pg. 215), so you can't really argue with it.  I'm going to blame it on row- versus column-major ordering.  I blame everything else on that, so why not?"
   ]
  },
  {
   "cell_type": "code",
   "execution_count": 4,
   "metadata": {},
   "outputs": [
    {
     "data": {
      "image/png": "[encoded data removed]",
      "text/plain": [
       "<Figure size 432x288 with 2 Axes>"
      ]
     },
     "metadata": {
      "needs_background": "light"
     },
     "output_type": "display_data"
    }
   ],
   "source": [
    "fig, (axL, axR) = plt.subplots(1,2)\n",
    "\n",
    "#G.T.dot(X)\n",
    "sane_quiver([x, givens_rot.T.dot(x)], axL, colors=['b', 'r'])\n",
    "axL.set_title(\"Rotate blue $\\pi/2$ CCW to red\")\n",
    "\n",
    "# X.dot(G)\n",
    "sane_quiver([x, x.dot(givens_rot.T)], axR, colors=['b', 'r'])\n",
    "axR.set_title(\"Rotate blue $\\pi/2$ CW to red\");"
   ]
  },
  {
   "cell_type": "markdown",
   "metadata": {},
   "source": [
    "We can generalize $G=\\begin{bmatrix}\\cos(\\theta) & \\sin(\\theta) \\\\ -\\sin(\\theta) & \\cos(\\theta)\\end{bmatrix}$ to still be a rotation in one plane, but make that plane be an arbitrary plane in a larger space.  Here's an example for 3D:\n",
    "\n",
    "$\\renewcommand{\\vec}[1]{\\mathbf{#1}}\\renewcommand{\\norm}[1]{\\|\\vec{#1}\\|}\\renewcommand{\\abs}[1]{\\left\\lvert#1\\right\\lvert}\\renewcommand{\\nvec}[2]{\\vec{#1}_\\mathrm{#2}}$\n",
    "\n",
    "$$G=\\begin{bmatrix}\n",
    "1 & 0 & 0 \\\\ \n",
    "0 & \\cos(\\theta) & \\sin(\\theta) \\\\ \n",
    "0 & -\\sin(\\theta) & \\cos(\\theta)\n",
    "\\end{bmatrix}$$\n",
    "\n",
    "and at the risk of belaboring the point, for 5D:\n",
    "$$G=\\begin{bmatrix}\n",
    "1 & 0 & 0 & 0 & 0\\\\ \n",
    "0 & \\cos(\\theta) & 0 & \\sin(\\theta) & 0 \\\\ \n",
    "0 & 0 & 1 & 0 & 0 \\\\\n",
    "0 & -\\sin(\\theta) & 0 & \\cos(\\theta) & 0 \\\\\n",
    "0 & 0 & 0 & 0 & 1\n",
    "\\end{bmatrix}$$\n"
   ]
  },
  {
   "cell_type": "markdown",
   "metadata": {},
   "source": [
    "In general, we take a $(m,m)$ identity matrix and replace four elements with these trig. functions.  If we want our rotation plane to be on axes 2 and 4 (as in G_2), we replace G[2,2], G[2,4], G[4,2], and G[4,4].  Since two of these elements are on the diagonal, we replace two 1s (with the cosines).  The two off-diagonal elements replace two 0s with $\\sin$ and its negative.  In G_2, if we called our axes (x,y,z,a,b), we would be performing a CCW rotation in the ya-plane.  More usually, if we called our axes $x_1 \\dots x_5$, we would be rotating in the $x_2 x_4$ plane."
   ]
  },
  {
   "cell_type": "markdown",
   "metadata": {},
   "source": [
    "### Computing a Givens Zeroing Coefficient"
   ]
  },
  {
   "cell_type": "markdown",
   "metadata": {},
   "source": [
    "If we rotate in a plane defined by two axes and we rotate just enough to get our vector pointed directly inline with one of those axes (assume the vector share a common origin/tail/starting point), then we have a $0$ component in *the other* axis.  Together with the fact that we can we pick the two axes out-of-a-hat, this means that we can *selectively* zero out single elements of a matrix using a Givens rotation.  Contrast this with Householder reflections which zero out *all-but-one* element of a row/column.  Put the two together, and we can start slicing and dicing matrices into different form pretty nicely."
   ]
  },
  {
   "cell_type": "code",
   "execution_count": 5,
   "metadata": {},
   "outputs": [],
   "source": [
    "# GvL pg. 216 : algo 5.1.3 * see also anderson(2000) via wikipedia for continuity concerns\n",
    "def zeroing_givens_coeffs(x,z):\n",
    "    ''' for the values x,z compute cos th, sin th \n",
    "        s.t. applying a Givens rotation G(cos th,sin th) \n",
    "             on 2 rows(or cols) with values x,z will\n",
    "             maps x --> r and z --> 0'''\n",
    "    if z == 0.0: # better:  abs(z) < np.finfo(np.double).eps\n",
    "        return 1.0,0.0\n",
    "    r = np.hypot(x,z) # C99 hypot is safe for under/overflow\n",
    "    return x/r, -z/r"
   ]
  },
  {
   "cell_type": "code",
   "execution_count": 6,
   "metadata": {},
   "outputs": [
    {
     "ename": "SyntaxError",
     "evalue": "invalid syntax (<ipython-input-6-57b7c4e3cd95>, line 3)",
     "output_type": "error",
     "traceback": [
      "\u001b[0;36m  File \u001b[0;32m\"<ipython-input-6-57b7c4e3cd95>\"\u001b[0;36m, line \u001b[0;32m3\u001b[0m\n\u001b[0;31m    print np.sqrt(2)/2, np.sin(np.pi/4), np.cos(np.pi/4)\u001b[0m\n\u001b[0m           ^\u001b[0m\n\u001b[0;31mSyntaxError\u001b[0m\u001b[0;31m:\u001b[0m invalid syntax\n"
     ]
    }
   ],
   "source": [
    "# from the 45deg .. pi/4 .. y=x line, \n",
    "# theta should be pi/4, we should rotate \n",
    "print np.sqrt(2)/2, np.sin(np.pi/4), np.cos(np.pi/4)\n",
    "print zeroing_givens_coeffs(2,2)\n",
    "print zeroing_givens_coeffs(4,4)\n",
    "\n",
    "\n",
    "print zeroing_givens_coeffs(3,4)\n",
    "print zeroing_givens_coeffs(4,3)"
   ]
  },
  {
   "cell_type": "markdown",
   "metadata": {},
   "source": [
    "Now, we can *apply* a Givens transformation by hand.  We do it in two steps:  (1)  create the appropriate Givens matrix as a $(2\\ \\mathrm{x}\\ 2)$ array from the computed zeroing coefficients and (2) apply that on the correct rows (for a left Givens) or columns (for a right Givens).  Remember, on the left, we use the tranpose."
   ]
  },
  {
   "cell_type": "code",
   "execution_count": 7,
   "metadata": {},
   "outputs": [
    {
     "ename": "SyntaxError",
     "evalue": "Missing parentheses in call to 'print'. Did you mean print(x)? (<ipython-input-7-9a8a1a7acebb>, line 12)",
     "output_type": "error",
     "traceback": [
      "\u001b[0;36m  File \u001b[0;32m\"<ipython-input-7-9a8a1a7acebb>\"\u001b[0;36m, line \u001b[0;32m12\u001b[0m\n\u001b[0;31m    print x\u001b[0m\n\u001b[0m          ^\u001b[0m\n\u001b[0;31mSyntaxError\u001b[0m\u001b[0;31m:\u001b[0m Missing parentheses in call to 'print'. Did you mean print(x)?\n"
     ]
    }
   ],
   "source": [
    "# column vector\n",
    "x = np.array([1.0, 2, 3, 4]).reshape(4,1)\n",
    "\n",
    "# compute coefficients\n",
    "c,s = zeroing_givens_coeffs(20, 40)\n",
    "\n",
    "# apply transformation (in-place)\n",
    "givensT = np.array([[c, -s],\n",
    "                    [s,  c]])\n",
    "x[[1,3], :] = givensT.dot(x[[1,3],:])\n",
    "\n",
    "print x"
   ]
  },
  {
   "cell_type": "markdown",
   "metadata": {},
   "source": [
    "### Applying a Givens Rotation"
   ]
  },
  {
   "cell_type": "markdown",
   "metadata": {},
   "source": [
    "Here, we've moved straight into Python land, so we'll be using zero-indexing now.  You've been warned!  And yes, I'm shamed.  I reworked these functions (slightly) in the next post, because I didn't like the separation of the \"Givens\" args (`c,s,r1,r2`) and `A` being lumped in the middle.\n",
    "\n",
    "The form of Givens rotations means that *we can save a lot of work* when we multiply.  Most of a Givens matrix is $0$ - and much of the rest is an identity vector.  So, we can effectively *ignore* most of it.  On the left, we only need to update two rows.  On the right, it's two columns.  We'll see examples below."
   ]
  },
  {
   "cell_type": "code",
   "execution_count": 8,
   "metadata": {},
   "outputs": [
    {
     "ename": "SyntaxError",
     "evalue": "invalid syntax (<ipython-input-8-1738d34052c3>, line 2)",
     "output_type": "error",
     "traceback": [
      "\u001b[0;36m  File \u001b[0;32m\"<ipython-input-8-1738d34052c3>\"\u001b[0;36m, line \u001b[0;32m2\u001b[0m\n\u001b[0;31m    def left_givensT((c,s), A, r1, r2):\u001b[0m\n\u001b[0m                     ^\u001b[0m\n\u001b[0;31mSyntaxError\u001b[0m\u001b[0;31m:\u001b[0m invalid syntax\n"
     ]
    }
   ],
   "source": [
    "# GvL, pg. 216 .... Section 5.1.9\n",
    "def left_givensT((c,s), A, r1, r2):\n",
    "    ''' update A <- G.T.dot(A) ... affects rows r1 and r2 '''\n",
    "    givensT = np.array([[ c, -s],   # manually transposed \n",
    "                        [ s,  c]])\n",
    "    A[[r1,r2],:] = np.dot(givensT, A[[r1,r2],:])\n",
    "\n",
    "# A.dot(G) .... affects two cols of A\n",
    "def right_givens((c,s), A, c1, c2):\n",
    "    ''' update A <- A.dot(G) ... affects cols c1 and c2 '''\n",
    "    givens = np.array([[ c, s],\n",
    "                       [-s, c]])\n",
    "    A[:,[c1, c2]] = np.dot(A[:,[c1, c2]], givens)"
   ]
  },
  {
   "cell_type": "code",
   "execution_count": 9,
   "metadata": {},
   "outputs": [
    {
     "ename": "SyntaxError",
     "evalue": "Missing parentheses in call to 'print'. Did you mean print(x)? (<ipython-input-9-e0f93e6d938e>, line 2)",
     "output_type": "error",
     "traceback": [
      "\u001b[0;36m  File \u001b[0;32m\"<ipython-input-9-e0f93e6d938e>\"\u001b[0;36m, line \u001b[0;32m2\u001b[0m\n\u001b[0;31m    print x\u001b[0m\n\u001b[0m          ^\u001b[0m\n\u001b[0;31mSyntaxError\u001b[0m\u001b[0;31m:\u001b[0m Missing parentheses in call to 'print'. Did you mean print(x)?\n"
     ]
    }
   ],
   "source": [
    "x = np.array([1.0, 2, 3, 4]).reshape(4,1)\n",
    "print x\n",
    "\n",
    "c,s = zeroing_givens_coeffs(2, 4)\n",
    "left_givensT((c,s), x, 1,3)\n",
    "print x"
   ]
  },
  {
   "cell_type": "code",
   "execution_count": 10,
   "metadata": {},
   "outputs": [
    {
     "ename": "SyntaxError",
     "evalue": "Missing parentheses in call to 'print'. Did you mean print(x)? (<ipython-input-10-bca60860d2d2>, line 3)",
     "output_type": "error",
     "traceback": [
      "\u001b[0;36m  File \u001b[0;32m\"<ipython-input-10-bca60860d2d2>\"\u001b[0;36m, line \u001b[0;32m3\u001b[0m\n\u001b[0;31m    print x\u001b[0m\n\u001b[0m          ^\u001b[0m\n\u001b[0;31mSyntaxError\u001b[0m\u001b[0;31m:\u001b[0m Missing parentheses in call to 'print'. Did you mean print(x)?\n"
     ]
    }
   ],
   "source": [
    "# row vector\n",
    "x = np.array([1.0, 2, 3, 4]).reshape(1,4)\n",
    "print x\n",
    "\n",
    "# zero the 2, this time\n",
    "c_zero, c_other = 1, 3\n",
    "c,s = zeroing_givens_coeffs(x[0,c_other], x[0,c_zero])\n",
    "right_givens((c,s), x, c_other, c_zero)\n",
    "\n",
    "print x"
   ]
  },
  {
   "cell_type": "code",
   "execution_count": 11,
   "metadata": {},
   "outputs": [
    {
     "ename": "SyntaxError",
     "evalue": "Missing parentheses in call to 'print'. Did you mean print(x)? (<ipython-input-11-fe92f49ca592>, line 4)",
     "output_type": "error",
     "traceback": [
      "\u001b[0;36m  File \u001b[0;32m\"<ipython-input-11-fe92f49ca592>\"\u001b[0;36m, line \u001b[0;32m4\u001b[0m\n\u001b[0;31m    print x\u001b[0m\n\u001b[0m          ^\u001b[0m\n\u001b[0;31mSyntaxError\u001b[0m\u001b[0;31m:\u001b[0m Missing parentheses in call to 'print'. Did you mean print(x)?\n"
     ]
    }
   ],
   "source": [
    "x = np.arange(16.0).reshape(4,4)\n",
    "c,s = zeroing_givens_coeffs(7,5)\n",
    "right_givens((c,s), x, 3,1)\n",
    "print x"
   ]
  },
  {
   "cell_type": "markdown",
   "metadata": {},
   "source": [
    "You may have noticed that when I wanted to zero the `5` value, I had to swap the args to `zeroing_givens_coeff` (the zeroed *value* comes second) *and* swap the axes args to `right_givens` (the zeroed *position* comes second).  Ugh.  This implies that those two parameters (the order of them) are intimately coupled.  And making a programmer use coupled arguments is a recipe for disaster.  We'll talk about a higher level interface in the next post.  Incidentally, the two-step process is useful because we often have to apply the same transformation to more than one matrix at a time.  "
   ]
  },
  {
   "cell_type": "markdown",
   "metadata": {},
   "source": [
    "### Using Givens Rotations to Perform a QR Decomposition"
   ]
  },
  {
   "cell_type": "markdown",
   "metadata": {},
   "source": [
    "Let's take a look at how we'll *use* the Givens rotations, so we can design a decent interface for them.  \n",
    "\n",
    "We can take an arbitrary matrix $\\vec{A}$ uses (zeroing) Givens rotations to zero out entries.  As we do that, we get a sequence of Givens rotations $\\vec{G_1},\\vec{G_2},\\vec{G_3},\\dots$.  Eventually, we have $A=(\\prod_i \\vec{G_i}) \\vec{Z}$ where $\\vec{Z}$ has \"lots\" of zeros in it.  If we introduce those zeros in the right way, we can get $\\vec{Z}$ to be upper-triangular (aka, $\\vec{R}$) and then $\\prod_i \\vec{G_i} = Q$.  Presto, et voila, we have $QR$.  Note that the product of several orthogonal matrices (and rotations), is itself, orthogonal (one grand rotation).\n",
    "\n",
    "To do this, we'll work from left-to-right column wise.  On the first column, we'll introduce a zeros from the bottom up until we get to the top row.  That top row will be modified by a zeroing Givens rotation, but it won't be zeroed.  And likewise for each additional column -- except we always stop at the diagonal.  Remember, as we walk across the columns, we move up the rows until we get to the diagonal, zeroing as we go.  The diagonal is modified (to $r$ coming out of our zeroing Givens rotation).  That column, above the diagonal, is untouched by the \"walking up the column\".  When we apply our $G_i$, two rows are rotated which will affect entries above the matrix diagonal -- but to the right, not to the top.  The entries to the left, in those two rows, will already have been zeroed and it can be ignored."
   ]
  },
  {
   "cell_type": "code",
   "execution_count": 12,
   "metadata": {},
   "outputs": [
    {
     "ename": "SyntaxError",
     "evalue": "Missing parentheses in call to 'print'. Did you mean print(A)? (<ipython-input-12-b77af7877c93>, line 2)",
     "output_type": "error",
     "traceback": [
      "\u001b[0;36m  File \u001b[0;32m\"<ipython-input-12-b77af7877c93>\"\u001b[0;36m, line \u001b[0;32m2\u001b[0m\n\u001b[0;31m    print A\u001b[0m\n\u001b[0m          ^\u001b[0m\n\u001b[0;31mSyntaxError\u001b[0m\u001b[0;31m:\u001b[0m Missing parentheses in call to 'print'. Did you mean print(A)?\n"
     ]
    }
   ],
   "source": [
    "A = np.arange(1.0, 10.0).reshape(3,3)\n",
    "print A\n",
    "\n",
    "col = 0\n",
    "for row in reversed(xrange(1,3)): # row in [2, 1]\n",
    "    # zeroing the lower row, \n",
    "    # so row-1 is first arg and row is second arg\n",
    "    coeffs = zeroing_givens_coeffs(A[row-1, col], A[row, col])\n",
    "    left_givensT(coeffs, A[:, col:], row-1, row) \n",
    "    print A"
   ]
  },
  {
   "cell_type": "markdown",
   "metadata": {},
   "source": [
    "We walk up a fixed column (here, the first column) and introduce zeros into it.  As we do this, we only affect the two rows we are currently \"attacking\" (`row` and `row-1`).  Since we'll be processing the remaining columns, we don't care that we've fiddled with the values.  We'll zero out the below-the-diagonal entries.  But one quick question.  We're going to zero out much of the second column.  When we rotate the bottom two rows, why don't the zeros (that we introduced in the first pass) get modified as well?  \n",
    "\n",
    "Consider the bottom-left position during the start of the second pass.  When we compute $G^TA$ (not Grandtheft Auto, btw), the position $(2,0)$ comes from `dot(G.T[2,:], A[:,0])` (i.e., the row-column rule of matrix multiplication).  The two things being dotted are \"just\" vectors:  let `g=G.T[2,:]` and `a=A[:,0]` for simplicity sake.  `g` comes from a Givens rotation for $(1,2)$, so the only entries that are non-zero are entries `1` and `2` (said another way, `g` is zero at position `1`).  `a` currently has only one non-zero:  position `0`.  Put these two facts together and every term in the dot-product either gets a zero from `g` or from `a`.  So, the whole dot-product is zero. \n",
    "\n",
    "As we introduce more and more zero below the diagonal, the same argument will hold for all spots to the left of our current \"working\" column and below the diagonal.  Put the above code (which works for just one column) in a loop over all columns gives us:"
   ]
  },
  {
   "cell_type": "code",
   "execution_count": 13,
   "metadata": {},
   "outputs": [],
   "source": [
    "# GvL:  page 227 ...... algorithm 5.2.2\n",
    "# updates A in-place to produce \n",
    "def givens_qr(A):\n",
    "    m,n = A.shape\n",
    "    Q = np.eye(m)\n",
    "    for c in xrange(n):\n",
    "        for r in reversed(xrange(c+1, m)):  # m-1, m-2, ... c+2, c+1\n",
    "            # in this row and the previous row, use zeroing givens to\n",
    "            # place a zero in the lower row\n",
    "            coeffs = zeroing_givens_coeffs(A[r-1, c], A[r,c])\n",
    "            left_givensT(coeffs, A[:, c:], r-1, r) \n",
    "            # left_givensT(coeffs, A[r-1:r+1, c:], 0, 1)\n",
    "            left_givensT(coeffs, Q[:, c:], r-1, r)\n",
    "    return Q"
   ]
  },
  {
   "cell_type": "markdown",
   "metadata": {},
   "source": [
    "There are more efficient ways to store and compute a product of Givens rotations.  Here, we simply accumulate them in $\\vec{Q}$, which starts out as an identity matrix.  See G&VL (3rd), pages 217, 218, and 227, for more efficient possibilities."
   ]
  },
  {
   "cell_type": "code",
   "execution_count": 14,
   "metadata": {},
   "outputs": [
    {
     "ename": "SyntaxError",
     "evalue": "Missing parentheses in call to 'print'. Did you mean print(A)? (<ipython-input-14-6fce83bec33b>, line 2)",
     "output_type": "error",
     "traceback": [
      "\u001b[0;36m  File \u001b[0;32m\"<ipython-input-14-6fce83bec33b>\"\u001b[0;36m, line \u001b[0;32m2\u001b[0m\n\u001b[0;31m    print A\u001b[0m\n\u001b[0m          ^\u001b[0m\n\u001b[0;31mSyntaxError\u001b[0m\u001b[0;31m:\u001b[0m Missing parentheses in call to 'print'. Did you mean print(A)?\n"
     ]
    }
   ],
   "source": [
    "A = np.arange(1.0, 10.0).reshape(3,3)\n",
    "print A\n",
    "print \"nla.qr's R\"\n",
    "print nla.qr(A)[1]"
   ]
  },
  {
   "cell_type": "code",
   "execution_count": 15,
   "metadata": {},
   "outputs": [
    {
     "ename": "SyntaxError",
     "evalue": "Missing parentheses in call to 'print'. Did you mean print(\"my givens R\")? (<ipython-input-15-318d78a54da3>, line 2)",
     "output_type": "error",
     "traceback": [
      "\u001b[0;36m  File \u001b[0;32m\"<ipython-input-15-318d78a54da3>\"\u001b[0;36m, line \u001b[0;32m2\u001b[0m\n\u001b[0;31m    print \"my givens R\"\u001b[0m\n\u001b[0m                      ^\u001b[0m\n\u001b[0;31mSyntaxError\u001b[0m\u001b[0;31m:\u001b[0m Missing parentheses in call to 'print'. Did you mean print(\"my givens R\")?\n"
     ]
    }
   ],
   "source": [
    "givens_qr(A)\n",
    "print \"my givens R\"\n",
    "print A"
   ]
  },
  {
   "cell_type": "markdown",
   "metadata": {},
   "source": [
    "### Conclusion"
   ]
  },
  {
   "cell_type": "markdown",
   "metadata": {},
   "source": [
    "Like many posts, I bit off more than I thought.  This got a bit long winded and I have more to say about Givens rotations and using them to selectively zero out entried in a particular kind of matrix:  an upper bidiagonal matrix that has, gasp!, a blemish.  Until next time ..."
   ]
  }
 ],
 "metadata": {
  "kernelspec": {
   "display_name": "Python 3",
   "language": "python",
   "name": "python3"
  },
  "language_info": {
   "codemirror_mode": {
    "name": "ipython",
    "version": 3
   },
   "file_extension": ".py",
   "mimetype": "text/x-python",
   "name": "python",
   "nbconvert_exporter": "python",
   "pygments_lexer": "ipython3",
   "version": "3.6.8"
  }
 },
 "nbformat": 4,
 "nbformat_minor": 1
}
