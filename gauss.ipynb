{
 "cells": [
  {
   "cell_type": "code",
   "execution_count": 199,
   "metadata": {},
   "outputs": [],
   "source": [
    "# input a[i][j] and b[i]\n",
    "# sort rows\n",
    "# forwart\n",
    "# backward\n",
    "# print result"
   ]
  },
  {
   "cell_type": "code",
   "execution_count": 207,
   "metadata": {},
   "outputs": [],
   "source": [
    "# input coefficients -- a[i][j] and\n",
    "# free b[i]\n",
    "\n",
    "# i -- row <= m\n",
    "# j -- column <= n\n",
    "\n",
    "# m = n\n",
    "# m = len(a)\n",
    "# n = len(a[0])\n",
    "\n",
    "# # a[i][j]\n",
    "# print('\\ncoef: a')\n",
    "# for i in range(m):\n",
    "    \n",
    "#     for j in range(n):\n",
    "#         print(a[i][j], end=' ')\n",
    "#     print()\n",
    "\n",
    "# # b\n",
    "# print('\\nfree: b')\n",
    "# for i in range(m):\n",
    "#     print(b[i])\n",
    "\n"
   ]
  },
  {
   "cell_type": "code",
   "execution_count": 217,
   "metadata": {},
   "outputs": [],
   "source": [
    "def get_row(matrix, i):\n",
    "    \"\"\"get row\"\"\"\n",
    "    print('get row')\n",
    "    \n",
    "    len_rows = len(matrix)\n",
    "    \n",
    "    if 0 <= i and i < len_rows:\n",
    "        return matrix[i]\n",
    "    return 'Error: list index out of range'\n",
    "\n",
    "def change_rows(matrix, src, dest):\n",
    "    \"\"\"change rows\"\"\"\n",
    "    print('change rows')\n",
    "    \n",
    "    if src != dest:\n",
    "        n = len(matrix[0])\n",
    "\n",
    "        tempRow = [None] * (n - 1)\n",
    "\n",
    "        tempRow = matrix[dest]\n",
    "\n",
    "        matrix[dest] = matrix[src]\n",
    "        matrix[src] = tempRow\n",
    "        \n",
    "\n",
    "def get_max_abs_a_i_0(matrix):\n",
    "    \"\"\"get max a_i\"\"\"\n",
    "    print('get max a_i')\n",
    "    \n",
    "    len_rows = len(matrix)\n",
    "    \n",
    "    max_abs_a_i = abs(matrix[0][0])\n",
    "    max_index = 0\n",
    "    \n",
    "    for i in range(1, n):\n",
    "        value = abs(matrix[i][0])\n",
    "        print(value)\n",
    "        \n",
    "        if value > max_abs_a_i:\n",
    "            max_index = i\n",
    "            max_abs_a_i = value\n",
    "\n",
    "    return max_index\n",
    "\n",
    "def set_max_coef(matrix, max_index):\n",
    "    \"\"\"set max coef\"\"\"\n",
    "    print('set max coef')\n",
    "    \n",
    "    row_first_index = 0\n",
    "    \n",
    "    if max_index != row_first_index:\n",
    "        change_rows(matrix, max_index, row_first_index)\n",
    "\n",
    "\n",
    "def devide_by_a_i(matrix, i):\n",
    "    \"\"\"devide_by_a_i\"\"\"\n",
    "    print('devide_by_a_i')\n",
    "    \n",
    "    n = len(matrix[i])\n",
    "    a_i = matrix[i][0]\n",
    "    \n",
    "    for j in range(n):\n",
    "        matrix[i][j] /= a_i\n"
   ]
  },
  {
   "cell_type": "code",
   "execution_count": 229,
   "metadata": {},
   "outputs": [],
   "source": [
    "def zeroed_x_i(matrix, i):\n",
    "    print('\\nzeroed_x_i')\n",
    "    \n",
    "    n = len(matrix)\n",
    "    \n",
    "#     for i in range(n):\n",
    "    print(matrix[0])\n",
    "    \n",
    "    for i in range(1, n):\n",
    "        print(matrix[i])\n",
    "        "
   ]
  },
  {
   "cell_type": "code",
   "execution_count": 230,
   "metadata": {},
   "outputs": [
    {
     "name": "stdout",
     "output_type": "stream",
     "text": [
      "matrix:\n",
      " [[2, -4, 4], [-7, 12, -14], [6, -7, 5]]\n",
      "get max a_i\n",
      "7\n",
      "6\n",
      "set max coef\n",
      "change rows\n",
      "matrix:\n",
      " [[-7, 12, -14], [2, -4, 4], [6, -7, 5]]\n",
      "devide_by_a_i\n",
      "matrix:\n",
      " [[1.0, -1.7142857142857142, 2.0], [2, -4, 4], [6, -7, 5]]\n",
      "\n",
      "zeroed_x_i\n",
      "[1.0, -1.7142857142857142, 2.0]\n",
      "[2, -4, 4]\n",
      "[6, -7, 5]\n"
     ]
    }
   ],
   "source": [
    "# main\n",
    "\n",
    "a = [\n",
    "    [2, -4, 4],\n",
    "    [-7, 12, -14],\n",
    "    [6, -7, 5]\n",
    "]\n",
    "\n",
    "b = [\n",
    "    6,\n",
    "    -35,\n",
    "    10\n",
    "]\n",
    "\n",
    "print('matrix:\\n',a)\n",
    "\n",
    "max_index = get_max_abs_a_i_0(a)\n",
    "\n",
    "set_max_coef(a, max_index)\n",
    "\n",
    "print('matrix:\\n', a)\n",
    "\n",
    "devide_by_a_i(a, 0)\n",
    "\n",
    "print('matrix:\\n', a)\n",
    "\n",
    "zeroed_x_i(a, i)\n",
    "\n"
   ]
  },
  {
   "cell_type": "code",
   "execution_count": 228,
   "metadata": {},
   "outputs": [
    {
     "ename": "TypeError",
     "evalue": "'int' object is not subscriptable",
     "output_type": "error",
     "traceback": [
      "\u001b[0;31m---------------------------------------------------------------------------\u001b[0m",
      "\u001b[0;31mTypeError\u001b[0m                                 Traceback (most recent call last)",
      "\u001b[0;32m<ipython-input-228-18390db88cb0>\u001b[0m in \u001b[0;36m<module>\u001b[0;34m\u001b[0m\n\u001b[1;32m     12\u001b[0m \u001b[0;34m\u001b[0m\u001b[0m\n\u001b[1;32m     13\u001b[0m \u001b[0;32mfor\u001b[0m \u001b[0mi\u001b[0m \u001b[0;32min\u001b[0m \u001b[0mrange\u001b[0m\u001b[0;34m(\u001b[0m\u001b[0mm\u001b[0m\u001b[0;34m-\u001b[0m\u001b[0;36m1\u001b[0m\u001b[0;34m,\u001b[0m \u001b[0;34m-\u001b[0m\u001b[0;36m1\u001b[0m\u001b[0;34m,\u001b[0m \u001b[0;34m-\u001b[0m\u001b[0;36m1\u001b[0m\u001b[0;34m)\u001b[0m\u001b[0;34m:\u001b[0m\u001b[0;34m\u001b[0m\u001b[0;34m\u001b[0m\u001b[0m\n\u001b[0;32m---> 14\u001b[0;31m     \u001b[0mb_i_0\u001b[0m \u001b[0;34m=\u001b[0m \u001b[0mb\u001b[0m\u001b[0;34m[\u001b[0m\u001b[0mi\u001b[0m\u001b[0;34m]\u001b[0m\u001b[0;34m[\u001b[0m\u001b[0;36m0\u001b[0m\u001b[0;34m]\u001b[0m\u001b[0;34m\u001b[0m\u001b[0;34m\u001b[0m\u001b[0m\n\u001b[0m\u001b[1;32m     15\u001b[0m     \u001b[0mprint\u001b[0m\u001b[0;34m(\u001b[0m\u001b[0;34m'b_i_0:'\u001b[0m\u001b[0;34m,\u001b[0m \u001b[0mb_i_0\u001b[0m\u001b[0;34m,\u001b[0m \u001b[0mend\u001b[0m\u001b[0;34m=\u001b[0m\u001b[0;34m' : '\u001b[0m\u001b[0;34m)\u001b[0m\u001b[0;34m\u001b[0m\u001b[0;34m\u001b[0m\u001b[0m\n\u001b[1;32m     16\u001b[0m \u001b[0;34m\u001b[0m\u001b[0m\n",
      "\u001b[0;31mTypeError\u001b[0m: 'int' object is not subscriptable"
     ]
    }
   ],
   "source": [
    "# sort rows\n",
    "\n",
    "# number of rows\n",
    "m = len(a)\n",
    "# print(n)\n",
    "\n",
    "# number of cols\n",
    "n = len(a[0])\n",
    "# print(n)\n",
    "\n",
    "x = []\n",
    "\n",
    "for i in range(m-1, -1, -1):\n",
    "    b_i_0 = b[i][0]\n",
    "    print('b_i_0:', b_i_0, end=' : ')\n",
    "    \n",
    "    a_i_i = a[i][i]\n",
    "    print('a_i_i:', a_i_i , end='')\n",
    "    \n",
    "    print()\n",
    "    \n",
    "    x_i = b_i_0 / a_i_i\n",
    "    print(x_i)\n",
    "\n",
    "    x.append(x_i)\n",
    "    \n",
    "print()\n",
    "print(x)"
   ]
  },
  {
   "cell_type": "code",
   "execution_count": null,
   "metadata": {},
   "outputs": [],
   "source": [
    "# diagonal matrix\n",
    "# a * x = b\n",
    "# u = a^(-1) * b\n",
    "\n",
    "a = [\n",
    "    [2, 0, 0],\n",
    "    [0, 12, 0],\n",
    "    [0, 0, 5]\n",
    "]\n",
    "\n",
    "b = [\n",
    "    [6],\n",
    "    [-35],\n",
    "    [10]\n",
    "]"
   ]
  },
  {
   "cell_type": "code",
   "execution_count": 67,
   "metadata": {},
   "outputs": [],
   "source": [
    "def diag_matrix_solve(a, b):\n",
    "    return [b[i][0] / a[i][i] for i in range(m-1, -1, -1)]\n"
   ]
  },
  {
   "cell_type": "code",
   "execution_count": 68,
   "metadata": {},
   "outputs": [
    {
     "name": "stdout",
     "output_type": "stream",
     "text": [
      "[2.0, -2.9166666666666665, 3.0]\n"
     ]
    }
   ],
   "source": [
    "a = [\n",
    "    [2, 0, 0],\n",
    "    [0, 12, 0],\n",
    "    [0, 0, 5]\n",
    "]\n",
    "\n",
    "b = [\n",
    "    [6],\n",
    "    [-35],\n",
    "    [10]\n",
    "]\n",
    "\n",
    "x = diag_matrix_solve(a, b)\n",
    "\n",
    "print(x)"
   ]
  },
  {
   "cell_type": "code",
   "execution_count": null,
   "metadata": {},
   "outputs": [],
   "source": []
  }
 ],
 "metadata": {
  "kernelspec": {
   "display_name": "Python 3",
   "language": "python",
   "name": "python3"
  },
  "language_info": {
   "codemirror_mode": {
    "name": "ipython",
    "version": 3
   },
   "file_extension": ".py",
   "mimetype": "text/x-python",
   "name": "python",
   "nbconvert_exporter": "python",
   "pygments_lexer": "ipython3",
   "version": "3.6.8"
  }
 },
 "nbformat": 4,
 "nbformat_minor": 4
}
