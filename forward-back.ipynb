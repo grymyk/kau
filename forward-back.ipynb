{
 "cells": [
  {
   "cell_type": "code",
   "execution_count": 6,
   "metadata": {},
   "outputs": [],
   "source": [
    "# https://en.wikipedia.org/wiki/Dodgson_condensation\n",
    "# https://rosettacode.org/wiki/Matrix_multiplication#Python"
   ]
  },
  {
   "cell_type": "code",
   "execution_count": 22,
   "metadata": {},
   "outputs": [
    {
     "name": "stdout",
     "output_type": "stream",
     "text": [
      "[[1, 2, 3, 4, 5], [6, 1, 2, 0, 4], [7, 1, 0, 2, 4], [8, 1, -1, 3, 4]]\n"
     ]
    }
   ],
   "source": [
    "matrix = [\n",
    "    [1, 2, 3, 4, 5],\n",
    "    [6, 1, 2, 0, 4],\n",
    "    [7, 1, 0, 2, 4],\n",
    "    [8, 1, -1, 3, 4]\n",
    "]\n",
    "\n",
    "## rows\n",
    "# for i in matrix:\n",
    "#     print(i)\n",
    "\n",
    "print([i for i in matrix])"
   ]
  },
  {
   "cell_type": "code",
   "execution_count": 38,
   "metadata": {},
   "outputs": [
    {
     "name": "stdout",
     "output_type": "stream",
     "text": [
      "[[1, 6, 7, 8], [2, 1, 1, 1], [3, 2, 0, -1], [4, 0, 2, 3], [5, 4, 4, 4]]\n"
     ]
    }
   ],
   "source": [
    "matrix = [\n",
    "    [1, 2, 3, 4, 5],\n",
    "    [6, 1, 2, 0, 4],\n",
    "    [7, 1, 0, 2, 4],\n",
    "    [8, 1, -1, 3, 4]\n",
    "]\n",
    "\n",
    "## columls\n",
    "\n",
    "# transposed = []\n",
    "\n",
    "# for i in range(5):\n",
    "#     transposed_row = []\n",
    "    \n",
    "#     for row in matrix:\n",
    "#         transposed_row.append(row[i])\n",
    "        \n",
    "#     transposed.append(transposed_row)\n",
    "\n",
    "# print(transposed)\n",
    "\n",
    "n = len(matrix[0])\n",
    "print([ [row[i] for row in matrix] for i in range(n)])"
   ]
  },
  {
   "cell_type": "code",
   "execution_count": 48,
   "metadata": {},
   "outputs": [
    {
     "name": "stdout",
     "output_type": "stream",
     "text": [
      "[[1, 2, 3, 4, 5], [6, 1, 2, 0, 4], [7, 1, 0, 2, 4], [8, 1, -1, 3, 4]]\n",
      "[[1, 2, 3, 4, 5], [6, 1, 2, 0, 4], [7, 1, 0, 2, 4], [8, 1, -1, 3, 4]]\n"
     ]
    }
   ],
   "source": [
    "def changeRows(matrix, src, dest):\n",
    "    if src != dest:\n",
    "        n = len(matrix[0])\n",
    "        print('n:', n)\n",
    "\n",
    "        tempRow = [None] * (n - 1)\n",
    "\n",
    "        tempRow = matrix[dest]\n",
    "\n",
    "        matrix[dest] = matrix[src]\n",
    "        matrix[src] = tempRow\n",
    "    \n",
    "matrix = [\n",
    "    [1, 2, 3, 4, 5],\n",
    "    [6, 1, 2, 0, 4],\n",
    "    [7, 1, 0, 2, 4],\n",
    "    [8, 1, -1, 3, 4]\n",
    "]\n",
    "\n",
    "print(matrix)\n",
    "\n",
    "changeRows(matrix, 1, 1)\n",
    "\n",
    "print(matrix)\n",
    "    "
   ]
  },
  {
   "cell_type": "code",
   "execution_count": null,
   "metadata": {},
   "outputs": [],
   "source": [
    "def changeCols(matrix, src, dest):\n",
    "    if src != dest:\n",
    "        m = len(matrix)\n",
    "        \n",
    "        \n",
    "        print('m:', m)\n",
    "\n",
    "        tempCol = [None] * (m - 1)\n",
    "        \n",
    "        ## get one column only\n",
    "        \n",
    "#         transposed = []\n",
    "\n",
    "#         for i in range(5):\n",
    "#             transposed_row = []\n",
    "\n",
    "#             for row in matrix:\n",
    "#                 transposed_row.append(row[i])\n",
    "\n",
    "#             transposed.append(transposed_row)\n",
    "\n",
    "        \n",
    "#         temp = matrix[dest]\n",
    "\n",
    "#         matrix[dest] = matrix[src]\n",
    "#         matrix[src] = temp\n",
    "    \n",
    "matrix = [\n",
    "    [1, 2, 3, 4, 5],\n",
    "    [6, 1, 2, 0, 4],\n",
    "    [7, 1, 0, 2, 4],\n",
    "    [8, 1, -1, 3, 4]\n",
    "]\n",
    "\n",
    "print(matrix)\n",
    "\n",
    "changeRows(matrix, 0, 1)\n",
    "\n",
    "print(matrix)\n",
    "    "
   ]
  },
  {
   "cell_type": "code",
   "execution_count": 46,
   "metadata": {},
   "outputs": [],
   "source": [
    "B = [\n",
    "    [1, 1, 1, 1, 4],\n",
    "    [1, 1, 2, 0, 4],\n",
    "    [1, 1, 0, 2, 4],\n",
    "    [1, 1, -1, 3, 4]\n",
    "]\n"
   ]
  },
  {
   "cell_type": "code",
   "execution_count": null,
   "metadata": {},
   "outputs": [],
   "source": []
  }
 ],
 "metadata": {
  "kernelspec": {
   "display_name": "Python 3",
   "language": "python",
   "name": "python3"
  },
  "language_info": {
   "codemirror_mode": {
    "name": "ipython",
    "version": 3
   },
   "file_extension": ".py",
   "mimetype": "text/x-python",
   "name": "python",
   "nbconvert_exporter": "python",
   "pygments_lexer": "ipython3",
   "version": "3.6.8"
  }
 },
 "nbformat": 4,
 "nbformat_minor": 4
}
