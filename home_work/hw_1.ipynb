{
 "cells": [
  {
   "cell_type": "code",
   "execution_count": null,
   "metadata": {},
   "outputs": [],
   "source": [
    "# ЗАДАЧА. 01\n",
    "# \n",
    "# ДАНО: Вектор с координатими V = (3, 4)^T;\n",
    "# \n",
    "# 1) Требуется найти матрицу поворота,\n",
    "#    которая сделает его коллинеарным с осью Х.\n",
    "#\n",
    "# 2) Требуется найти матрицу поворота,\n",
    "#    которая сделает его коллинеарным с осью Y.\n",
    "# \n",
    "# 3) Решите задачу в общем виде (т.е. с вектором (a, b)^T.)\n",
    "# \n",
    "# 4) Вектор дан в четірехмерном пространстве и имеет вид\n",
    "#   (a,b,0,0)^T. (a,0,b,0)^T. (a,0,0,b)^T.\n",
    "#   и требуется его повернуть так,\n",
    "#   чтобы после поворота он принял вид, соответственно, \n",
    "#  (0,с,0,0)^T. (0,0,с,0)^T. (0,0,0,с)^T.\n",
    "# \n",
    "#   Предьявите 4 соответствующие матрицы.\n",
    "# \n",
    "#   Матрица на вектор действует справа.\n",
    "# "
   ]
  },
  {
   "cell_type": "code",
   "execution_count": null,
   "metadata": {},
   "outputs": [],
   "source": [
    "# \n",
    "# https://en.wikipedia.org/wiki/Rotation_matrix\n",
    "# \n",
    "# R(t) = [\n",
    "#     cos(t) -sin(t)\n",
    "#     sin(t)  cos(t)\n",
    "# ]\n",
    "# "
   ]
  },
  {
   "cell_type": "code",
   "execution_count": null,
   "metadata": {},
   "outputs": [],
   "source": [
    "# r * v = b\n",
    "\n",
    "from math import cos, sin\n",
    "\n",
    "v = [\n",
    "    [3, 4]\n",
    "]\n",
    "\n",
    "bx = [\n",
    "    [3],\n",
    "    [0]\n",
    "]\n",
    "\n",
    "by = [\n",
    "    [0],\n",
    "    [4]\n",
    "]\n",
    "\n",
    "r = [\n",
    "    [cos(t), -sin(t)\n",
    "    [sin(t), cos(t)]\n",
    "]\n",
    "\n",
    "\n"
   ]
  }
 ],
 "metadata": {
  "kernelspec": {
   "display_name": "Python 3",
   "language": "python",
   "name": "python3"
  },
  "language_info": {
   "codemirror_mode": {
    "name": "ipython",
    "version": 3
   },
   "file_extension": ".py",
   "mimetype": "text/x-python",
   "name": "python",
   "nbconvert_exporter": "python",
   "pygments_lexer": "ipython3",
   "version": "3.6.8"
  }
 },
 "nbformat": 4,
 "nbformat_minor": 4
}
