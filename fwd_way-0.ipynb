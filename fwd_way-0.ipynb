{
 "cells": [
  {
   "cell_type": "code",
   "execution_count": 11,
   "metadata": {},
   "outputs": [],
   "source": [
    "def show_matrix(matrix):\n",
    "    print('matrix:')\n",
    "    \n",
    "    for row in matrix:\n",
    "        print(row)\n",
    "\n",
    "def devide_by_a_i(matrix, i):\n",
    "    n = len(matrix[i])\n",
    "    a_i = matrix[i][i]\n",
    "    \n",
    "    for j in range(n):\n",
    "        matrix[i][j] /= a_i\n",
    "\n"
   ]
  },
  {
   "cell_type": "code",
   "execution_count": 12,
   "metadata": {},
   "outputs": [],
   "source": [
    "a = [\n",
    "    [1, -2, 2, 3],\n",
    "    [-5, 12, -14, -35],\n",
    "    [6, -7, 5, 10]\n",
    "]"
   ]
  },
  {
   "cell_type": "code",
   "execution_count": 52,
   "metadata": {},
   "outputs": [
    {
     "name": "stdout",
     "output_type": "stream",
     "text": [
      "k: 0\n",
      "  i: 1\n",
      "    j 0\n",
      "    j 1\n",
      "    j 2\n",
      "  i: 2\n",
      "    j 0\n",
      "    j 1\n",
      "    j 2\n",
      "k: 1\n",
      "  i: 1\n",
      "    j 0\n",
      "    j 1\n",
      "    j 2\n",
      "  i: 2\n",
      "    j 0\n",
      "    j 1\n",
      "    j 2\n",
      "matrix:\n",
      "[1, -2, 2, 3]\n",
      "[0, 3, 3, -35]\n",
      "[0, 3, 3, 10]\n"
     ]
    }
   ],
   "source": [
    "m = len(a)\n",
    "n = len(a[0]) - 1\n",
    "\n",
    "# for k in range(n):\n",
    "#     print('k:', k)\n",
    "#     devide_by_a_i(a, k)\n",
    "\n",
    "# devide_by_a_i(a, k)\n",
    "\n",
    "for k in range(0, 2):\n",
    "    print('k:', k)\n",
    "    \n",
    "    for i in range(1, m):\n",
    "        print('  i:', i)\n",
    "\n",
    "        for j in range(n):\n",
    "            print('    j', j)\n",
    "            \n",
    "            a[i][j] = a[0][0] * a[i][j] - a[0][j] * a[i][0]\n",
    "#             print(a[i][j])\n",
    "    #         print(a[0][0], a[i][j], a[0][j], a[i][0], ' : ',a[0][0] * a[i][j] - a[0][j] * a[i][0])\n",
    "\n",
    "    \n",
    "\n",
    "show_matrix(a)\n",
    "    "
   ]
  },
  {
   "cell_type": "code",
   "execution_count": 154,
   "metadata": {},
   "outputs": [
    {
     "name": "stdout",
     "output_type": "stream",
     "text": [
      "k: 0\n",
      "  i: 1\n",
      "a_i: 2\n",
      "--\n",
      "  i: 2\n",
      "a_i: 1.0\n",
      "--\n",
      "k: 1\n",
      "  i: 2\n",
      "a_i: -7\n",
      "--\n",
      "matrix:\n",
      "[1, -2, 2, 3]\n",
      "[0.0, 1.0, -2.0, -10.0]\n",
      "[-0.0, -0.7142857142857143, 1.0, 1.1428571428571428]\n"
     ]
    }
   ],
   "source": [
    "def devide_by_a_i(matrix, i):\n",
    "    n = len(matrix[i])\n",
    "    a_i = matrix[i][i]\n",
    "    \n",
    "    print('a_i:', a_i)\n",
    "    \n",
    "    for j in range(n):\n",
    "        matrix[i][j] /= a_i\n",
    "\n",
    "b = [\n",
    "    [1, -2, 2, 3],\n",
    "    [-5, 12, -14, -35],\n",
    "    [6, -7, 5, 10]\n",
    "]\n",
    "\n",
    "m = len(a)\n",
    "n = len(a[0])\n",
    "\n",
    "l = 0\n",
    "\n",
    "for k in range(0, 2):\n",
    "    print('k:', k)\n",
    "    \n",
    "    \n",
    "    \n",
    "    for i in range(k+1, m):\n",
    "        print('  i:', i)\n",
    "#         print('b[i,j]', b[i][i])\n",
    "        \n",
    "        temp = []\n",
    "\n",
    "        for j in range(n):\n",
    "#             print('    j', j)\n",
    "#             print(b[0][0], b[i][j], b[0][j], b[i][0])\n",
    "\n",
    "            b_i_j_new = b[0][0] * b[i][j] - b[0][j] * b[i][0]\n",
    "            temp.append(b_i_j_new)\n",
    "\n",
    "        for j in range(n):\n",
    "            \n",
    "            b[i][j] = temp[j]\n",
    "        \n",
    "        del temp\n",
    "        \n",
    "        devide_by_a_i(b, k+1)\n",
    "    \n",
    "        \n",
    "        print('--')\n",
    "\n",
    "\n",
    "\n",
    "show_matrix(b)\n",
    "    "
   ]
  },
  {
   "cell_type": "code",
   "execution_count": null,
   "metadata": {},
   "outputs": [],
   "source": []
  },
  {
   "cell_type": "code",
   "execution_count": null,
   "metadata": {},
   "outputs": [],
   "source": []
  },
  {
   "cell_type": "code",
   "execution_count": null,
   "metadata": {},
   "outputs": [],
   "source": []
  },
  {
   "cell_type": "code",
   "execution_count": null,
   "metadata": {},
   "outputs": [],
   "source": []
  }
 ],
 "metadata": {
  "kernelspec": {
   "display_name": "Python 3",
   "language": "python",
   "name": "python3"
  },
  "language_info": {
   "codemirror_mode": {
    "name": "ipython",
    "version": 3
   },
   "file_extension": ".py",
   "mimetype": "text/x-python",
   "name": "python",
   "nbconvert_exporter": "python",
   "pygments_lexer": "ipython3",
   "version": "3.6.8"
  }
 },
 "nbformat": 4,
 "nbformat_minor": 4
}
