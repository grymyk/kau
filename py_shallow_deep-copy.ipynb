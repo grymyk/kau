{
 "cells": [
  {
   "cell_type": "code",
   "execution_count": 1,
   "metadata": {},
   "outputs": [],
   "source": [
    "# Shallow and Deep Copy. Side Effect\n",
    "# \n",
    "# https://www.python-course.eu/python3_deep_copy.php\n",
    "#"
   ]
  },
  {
   "cell_type": "code",
   "execution_count": 2,
   "metadata": {},
   "outputs": [
    {
     "name": "stdout",
     "output_type": "stream",
     "text": [
      "10914752\n",
      "x = 9 id(x) = 10914752\n",
      "x = 42 id(x) = 10915808\n",
      "10914752\n"
     ]
    }
   ],
   "source": [
    "def ref_demo(x):\n",
    "    print(\"x =\",x, \"id(x) =\", id(x))\n",
    "    \n",
    "    x = 42\n",
    "    \n",
    "    print(\"x =\",x, \"id(x) =\", id(x))\n",
    "    \n",
    "x = 9\n",
    "print( id(x) )\n",
    "\n",
    "ref_demo(x)\n",
    "\n",
    "print( id(x) )"
   ]
  },
  {
   "cell_type": "code",
   "execution_count": 3,
   "metadata": {},
   "outputs": [
    {
     "name": "stdout",
     "output_type": "stream",
     "text": [
      "['London', 'Leeds', 'Glasgow', 'Sheffield']\n",
      "['London', 'Leeds', 'Glasgow', 'Sheffield', 'Birmingham', 'Bradford']\n",
      "['London', 'Leeds', 'Glasgow', 'Sheffield']\n"
     ]
    }
   ],
   "source": [
    "def no_side_effects(cities):\n",
    "    print(cities)\n",
    "\n",
    "    cities = cities + [\"Birmingham\", \"Bradford\"]\n",
    "    \n",
    "    print(cities)\n",
    "\n",
    "def side_effects(cities):\n",
    "    print(cities)\n",
    "\n",
    "    cities += [\"Birmingham\", \"Bradford\"]\n",
    "    \n",
    "    print(cities)\n",
    "\n",
    "locations = [\"London\", \"Leeds\", \"Glasgow\", \"Sheffield\"]\n",
    "\n",
    "side_effects(locations[:])\n",
    "\n",
    "print(locations)\n"
   ]
  },
  {
   "cell_type": "code",
   "execution_count": 17,
   "metadata": {},
   "outputs": [
    {
     "ename": "UnboundLocalError",
     "evalue": "local variable 's' referenced before assignment",
     "output_type": "error",
     "traceback": [
      "\u001b[0;31m---------------------------------------------------------------------------\u001b[0m",
      "\u001b[0;31mUnboundLocalError\u001b[0m                         Traceback (most recent call last)",
      "\u001b[0;32m<ipython-input-17-e7f9c09c4a51>\u001b[0m in \u001b[0;36m<module>\u001b[0;34m\u001b[0m\n\u001b[1;32m      8\u001b[0m \u001b[0ms\u001b[0m \u001b[0;34m=\u001b[0m \u001b[0;34m\"hello\"\u001b[0m\u001b[0;34m\u001b[0m\u001b[0;34m\u001b[0m\u001b[0m\n\u001b[1;32m      9\u001b[0m \u001b[0;34m\u001b[0m\u001b[0m\n\u001b[0;32m---> 10\u001b[0;31m \u001b[0mfn\u001b[0m\u001b[0;34m(\u001b[0m\u001b[0;34m)\u001b[0m\u001b[0;34m\u001b[0m\u001b[0;34m\u001b[0m\u001b[0m\n\u001b[0m\u001b[1;32m     11\u001b[0m \u001b[0mprint\u001b[0m\u001b[0;34m(\u001b[0m\u001b[0ms\u001b[0m\u001b[0;34m)\u001b[0m\u001b[0;34m\u001b[0m\u001b[0;34m\u001b[0m\u001b[0m\n",
      "\u001b[0;32m<ipython-input-17-e7f9c09c4a51>\u001b[0m in \u001b[0;36mfn\u001b[0;34m()\u001b[0m\n\u001b[1;32m      1\u001b[0m \u001b[0;32mdef\u001b[0m \u001b[0mfn\u001b[0m\u001b[0;34m(\u001b[0m\u001b[0;34m)\u001b[0m\u001b[0;34m:\u001b[0m\u001b[0;34m\u001b[0m\u001b[0;34m\u001b[0m\u001b[0m\n\u001b[0;32m----> 2\u001b[0;31m     \u001b[0mprint\u001b[0m\u001b[0;34m(\u001b[0m\u001b[0ms\u001b[0m\u001b[0;34m)\u001b[0m\u001b[0;34m\u001b[0m\u001b[0;34m\u001b[0m\u001b[0m\n\u001b[0m\u001b[1;32m      3\u001b[0m \u001b[0;34m\u001b[0m\u001b[0m\n\u001b[1;32m      4\u001b[0m     \u001b[0ms\u001b[0m \u001b[0;34m=\u001b[0m \u001b[0;34m\"hi\"\u001b[0m\u001b[0;34m\u001b[0m\u001b[0;34m\u001b[0m\u001b[0m\n\u001b[1;32m      5\u001b[0m \u001b[0;34m\u001b[0m\u001b[0m\n",
      "\u001b[0;31mUnboundLocalError\u001b[0m: local variable 's' referenced before assignment"
     ]
    }
   ],
   "source": [
    "def fn():\n",
    "    print(s)\n",
    "    \n",
    "    s = \"hi\"\n",
    "    \n",
    "    print(s)\n",
    "    \n",
    "s = \"hello\"\n",
    "\n",
    "fn()\n",
    "print(s)"
   ]
  },
  {
   "cell_type": "code",
   "execution_count": null,
   "metadata": {},
   "outputs": [],
   "source": []
  }
 ],
 "metadata": {
  "kernelspec": {
   "display_name": "Python 3",
   "language": "python",
   "name": "python3"
  },
  "language_info": {
   "codemirror_mode": {
    "name": "ipython",
    "version": 3
   },
   "file_extension": ".py",
   "mimetype": "text/x-python",
   "name": "python",
   "nbconvert_exporter": "python",
   "pygments_lexer": "ipython3",
   "version": "3.6.8"
  }
 },
 "nbformat": 4,
 "nbformat_minor": 4
}
