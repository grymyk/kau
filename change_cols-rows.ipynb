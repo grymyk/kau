{
 "cells": [
  {
   "cell_type": "code",
   "execution_count": 1,
   "metadata": {},
   "outputs": [],
   "source": [
    "# https://en.wikipedia.org/wiki/Dodgson_condensation\n",
    "# https://rosettacode.org/wiki/Matrix_multiplication#Python"
   ]
  },
  {
   "cell_type": "code",
   "execution_count": 2,
   "metadata": {},
   "outputs": [
    {
     "name": "stdout",
     "output_type": "stream",
     "text": [
      "[[1, 2, 3, 4, 5], [6, 1, 2, 0, 4], [7, 1, 0, 2, 4], [8, 1, -1, 3, 4]]\n"
     ]
    }
   ],
   "source": [
    "matrix = [\n",
    "    [1, 2, 3, 4, 5],\n",
    "    [6, 1, 2, 0, 4],\n",
    "    [7, 1, 0, 2, 4],\n",
    "    [8, 1, -1, 3, 4]\n",
    "]\n",
    "\n",
    "## rows\n",
    "# for i in matrix:\n",
    "#     print(i)\n",
    "\n",
    "print([i for i in matrix])"
   ]
  },
  {
   "cell_type": "code",
   "execution_count": 3,
   "metadata": {},
   "outputs": [
    {
     "name": "stdout",
     "output_type": "stream",
     "text": [
      "[[1, 6, 7, 8], [2, 1, 1, 1], [3, 2, 0, -1], [4, 0, 2, 3], [5, 4, 4, 4]]\n"
     ]
    }
   ],
   "source": [
    "matrix = [\n",
    "    [1, 2, 3, 4, 5],\n",
    "    [6, 1, 2, 0, 4],\n",
    "    [7, 1, 0, 2, 4],\n",
    "    [8, 1, -1, 3, 4]\n",
    "]\n",
    "\n",
    "## columls\n",
    "\n",
    "# transposed = []\n",
    "\n",
    "# for i in range(5):\n",
    "#     transposed_row = []\n",
    "    \n",
    "#     for row in matrix:\n",
    "#         transposed_row.append(row[i])\n",
    "        \n",
    "#     transposed.append(transposed_row)\n",
    "\n",
    "# print(transposed)\n",
    "\n",
    "n = len(matrix[0])\n",
    "print([ [row[i] for row in matrix] for i in range(n)])"
   ]
  },
  {
   "cell_type": "code",
   "execution_count": 4,
   "metadata": {},
   "outputs": [
    {
     "name": "stdout",
     "output_type": "stream",
     "text": [
      "[[1, 2, 3, 4, 5], [6, 1, 2, 0, 4], [7, 1, 0, 2, 4], [8, 1, -1, 3, 4]]\n",
      "[[1, 2, 3, 4, 5], [6, 1, 2, 0, 4], [7, 1, 0, 2, 4], [8, 1, -1, 3, 4]]\n"
     ]
    }
   ],
   "source": [
    "def change_rows(matrix, src, dest):\n",
    "    if src != dest:\n",
    "        n = len(matrix[0])\n",
    "        print('n:', n)\n",
    "\n",
    "        tempRow = [None] * (n - 1)\n",
    "\n",
    "        tempRow = matrix[dest]\n",
    "\n",
    "        matrix[dest] = matrix[src]\n",
    "        matrix[src] = tempRow\n",
    "    \n",
    "matrix = [\n",
    "    [1, 2, 3, 4, 5],\n",
    "    [6, 1, 2, 0, 4],\n",
    "    [7, 1, 0, 2, 4],\n",
    "    [8, 1, -1, 3, 4]\n",
    "]\n",
    "\n",
    "print(matrix)\n",
    "\n",
    "change_rows(matrix, 1, 1)\n",
    "\n",
    "print(matrix)\n",
    "    "
   ]
  },
  {
   "cell_type": "code",
   "execution_count": 5,
   "metadata": {},
   "outputs": [
    {
     "name": "stdout",
     "output_type": "stream",
     "text": [
      "m: 4\n",
      "[[1, 2, 3, 4, 5], [0, 2, 3, 4, 5], [1, 2, 3, 4, 5], [1, 2, 3, 4, 5]]\n"
     ]
    }
   ],
   "source": [
    "def get_column(matrix, j):\n",
    "    n = len(matrix[0])\n",
    "    \n",
    "    if j < n:\n",
    "        return [row[j] for row in matrix]\n",
    "    print('j >= n')\n",
    "    \n",
    "\n",
    "def set_column(matrix, j, column):\n",
    "    n = len(matrix)\n",
    "    \n",
    "    size_column = len(column)\n",
    "    \n",
    "    if j < n and size_column == n:\n",
    "        for k in range(n):\n",
    "            matrix[k][j] = column[k]\n",
    "    else:\n",
    "        print('list index out of range')\n",
    "    \n",
    "\n",
    "    \n",
    "def change_cols(matrix, src, dest):\n",
    "    if src != dest:\n",
    "        m = len(matrix)\n",
    "        print('m:', m)\n",
    "\n",
    "#         tempCol = [None] * (m - 1)\n",
    "        \n",
    "        dest_column = get_column(matrix, dest)\n",
    "#         print('dest_column:', dest_column)\n",
    "        \n",
    "        src_column = get_column(matrix, src)\n",
    "#         print('src_column:', src_column)\n",
    "        \n",
    "        set_column(matrix, dest, src_column)\n",
    "        set_column(matrix, src, dest_column)\n",
    "        \n",
    "        print(matrix)\n",
    "\n",
    "\n",
    "matrix = [\n",
    "    [4, 2, 3, 1, 5],\n",
    "    [4, 2, 3, 0, 5],\n",
    "    [4, 2, 3, 1, 5],\n",
    "    [4, 2, 3, 1, 5]\n",
    "]\n",
    "src, dest = 3, 0\n",
    "\n",
    "change_cols(matrix, src, dest)\n"
   ]
  },
  {
   "cell_type": "code",
   "execution_count": 29,
   "metadata": {},
   "outputs": [
    {
     "name": "stdout",
     "output_type": "stream",
     "text": [
      "-5\n",
      "12\n",
      "-14\n",
      "-35\n",
      "6\n",
      "-7\n",
      "5\n",
      "10\n",
      "matrix:\n",
      "[1, -2, 2, 3]\n",
      "[0, 12, -14, -35]\n",
      "[0, -7, 5, 10]\n"
     ]
    }
   ],
   "source": [
    "def show_matrix(matrix):\n",
    "    print('matrix:')\n",
    "    \n",
    "    for row in matrix:\n",
    "        print(row)\n",
    "\n",
    "a = [\n",
    "    [1, -2, 2, 3],\n",
    "    [-5, 12, -14, -35],\n",
    "    [6, -7, 5, 10]\n",
    "]\n",
    "\n",
    "m = len(a)\n",
    "n = len(a[0])\n",
    "\n",
    "b = 3\n",
    "\n",
    "for i in range(1, m):\n",
    "    for j in range(n):\n",
    "        a[i][j] = a[0][0] * a[i][j] - a[0][j] * a[i][0]\n",
    "    \n",
    "\n",
    "show_matrix(a)\n",
    "    \n"
   ]
  },
  {
   "cell_type": "code",
   "execution_count": null,
   "metadata": {},
   "outputs": [],
   "source": []
  }
 ],
 "metadata": {
  "kernelspec": {
   "display_name": "Python 3",
   "language": "python",
   "name": "python3"
  },
  "language_info": {
   "codemirror_mode": {
    "name": "ipython",
    "version": 3
   },
   "file_extension": ".py",
   "mimetype": "text/x-python",
   "name": "python",
   "nbconvert_exporter": "python",
   "pygments_lexer": "ipython3",
   "version": "3.6.8"
  }
 },
 "nbformat": 4,
 "nbformat_minor": 4
}
