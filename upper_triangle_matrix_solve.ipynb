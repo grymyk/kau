{
 "cells": [
  {
   "cell_type": "code",
   "execution_count": 1,
   "metadata": {},
   "outputs": [],
   "source": [
    "# input a[i][j] and b[i]\n",
    "# forwart\n",
    "# backward\n",
    "# print result"
   ]
  },
  {
   "cell_type": "code",
   "execution_count": 2,
   "metadata": {},
   "outputs": [],
   "source": [
    "from math import fsum"
   ]
  },
  {
   "cell_type": "code",
   "execution_count": 3,
   "metadata": {},
   "outputs": [
    {
     "name": "stdout",
     "output_type": "stream",
     "text": [
      "0.9999999999999999\n",
      "1.0\n"
     ]
    }
   ],
   "source": [
    "floats = [.1, .1, .1, .1, .1, .1, .1, .1, .1, .1]\n",
    "\n",
    "print( sum(floats) )\n",
    "\n",
    "print( fsum(floats) )"
   ]
  },
  {
   "cell_type": "code",
   "execution_count": 28,
   "metadata": {},
   "outputs": [
    {
     "name": "stdout",
     "output_type": "stream",
     "text": [
      "i: 2\n",
      "i: 1\n",
      "i: 0\n",
      "x: [2.0, -2.9166666666666665, 3.0]\n"
     ]
    }
   ],
   "source": [
    "a = [\n",
    "    [2, -4, 4],\n",
    "    [0, 12, -14],\n",
    "    [0, 0, 5]\n",
    "]\n",
    "\n",
    "b = [\n",
    "    [6],\n",
    "    [-35],\n",
    "    [10]\n",
    "]\n",
    "\n",
    "# number of rows\n",
    "m = len(a)\n",
    "# print(n)\n",
    "\n",
    "# number of cols\n",
    "n = len(a[0])\n",
    "# print(n)\n",
    "\n",
    "x = []\n",
    "ax = []\n",
    "\n",
    "for i in range(m-1, -1, -1):\n",
    "    ax_i = []\n",
    "\n",
    "    b_i_0 = b[i][0]\n",
    "#     print('b_i_0:', b_i_0, end='; ')\n",
    "\n",
    "    a_i_i = a[i][i]\n",
    "#     print('a_i_i:', a_i_i , end='; ')\n",
    "\n",
    "    x_ip1 = b_i_0 / a_i_i\n",
    "    x.append(x_ip1)\n",
    "\n",
    "#     for j in range(n):\n",
    "        \n",
    "#         print(a[i][j], end=' ')\n",
    "        \n",
    "# #         print(x_ip1)\n",
    "# #         print('i:', i)\n",
    "        \n",
    "#         ax_i.append(a[i][j])\n",
    "        \n",
    "    print('i:', i)\n",
    "    \n",
    "#     ax.append(fsum(ax_i))\n",
    "\n",
    "print('x:', x)\n",
    "# print('ax:', ax)\n",
    "\n",
    "\n",
    "# for row in a:\n",
    "# #     print(row)\n",
    "    \n",
    "#     for j in row:\n",
    "#         print(j, end=' ')\n",
    "    \n",
    "#     print()\n",
    "    \n",
    "# for row in b:\n",
    "#     print(row)\n"
   ]
  },
  {
   "cell_type": "code",
   "execution_count": 17,
   "metadata": {},
   "outputs": [
    {
     "name": "stdout",
     "output_type": "stream",
     "text": [
      "b_i_0: -35 : a_i_i: 12\n"
     ]
    },
    {
     "ename": "TypeError",
     "evalue": "sum expected at least 1 arguments, got 0",
     "output_type": "error",
     "traceback": [
      "\u001b[0;31m---------------------------------------------------------------------------\u001b[0m",
      "\u001b[0;31mTypeError\u001b[0m                                 Traceback (most recent call last)",
      "\u001b[0;32m<ipython-input-17-d3359bc3a49c>\u001b[0m in \u001b[0;36m<module>\u001b[0;34m\u001b[0m\n\u001b[1;32m     42\u001b[0m     \u001b[0mprint\u001b[0m\u001b[0;34m(\u001b[0m\u001b[0;34m)\u001b[0m\u001b[0;34m\u001b[0m\u001b[0;34m\u001b[0m\u001b[0m\n\u001b[1;32m     43\u001b[0m \u001b[0;34m\u001b[0m\u001b[0m\n\u001b[0;32m---> 44\u001b[0;31m     \u001b[0mx_i\u001b[0m \u001b[0;34m=\u001b[0m \u001b[0;34m(\u001b[0m\u001b[0mb_i_0\u001b[0m \u001b[0;34m-\u001b[0m \u001b[0msum\u001b[0m\u001b[0;34m(\u001b[0m\u001b[0;34m)\u001b[0m \u001b[0;34m)\u001b[0m \u001b[0;34m/\u001b[0m \u001b[0ma_i_i\u001b[0m\u001b[0;34m\u001b[0m\u001b[0;34m\u001b[0m\u001b[0m\n\u001b[0m\u001b[1;32m     45\u001b[0m     \u001b[0mprint\u001b[0m\u001b[0;34m(\u001b[0m\u001b[0mx_i\u001b[0m\u001b[0;34m)\u001b[0m\u001b[0;34m\u001b[0m\u001b[0;34m\u001b[0m\u001b[0m\n\u001b[1;32m     46\u001b[0m \u001b[0;34m\u001b[0m\u001b[0m\n",
      "\u001b[0;31mTypeError\u001b[0m: sum expected at least 1 arguments, got 0"
     ]
    }
   ],
   "source": [
    "# upper_triangle matrix\n",
    "# \n",
    "# a * x = b\n",
    "#\n",
    "# rows: 0 <= i <= m\n",
    "# cols: 0 <= j <= n\n",
    "# \n",
    "# x_i+1 = b_i_0 / a_i_i\n",
    "# \n",
    "# x_i = (b_i - sum(a_i,i+1 * x_i+1) ) / a_i,i\n",
    "\n",
    "a = [\n",
    "    [2, -4, 4],\n",
    "    [0, 12, -14],\n",
    "    [0, 0, 5]\n",
    "]\n",
    "\n",
    "b = [\n",
    "    [6],\n",
    "    [-35],\n",
    "    [10]\n",
    "]\n",
    "\n",
    "# number of rows\n",
    "m = len(a)\n",
    "m = 2\n",
    "# print(n)\n",
    "\n",
    "# number of cols\n",
    "n = len(a[0])\n",
    "# print(n)\n",
    "\n",
    "x = []\n",
    "\n",
    "for i in range(m-1, -1, -1):\n",
    "    b_i_0 = b[i][0]\n",
    "    print('b_i_0:', b_i_0, end=' : ')\n",
    "    \n",
    "    a_i_i = a[i][i]\n",
    "    print('a_i_i:', a_i_i , end='')\n",
    "    \n",
    "    print()\n",
    "    \n",
    "    x_i = (b_i_0 - sum() ) / a_i_i\n",
    "    print(x_i)\n",
    "\n",
    "    x.append(x_i)\n",
    "    \n",
    "print()\n",
    "print(x)"
   ]
  },
  {
   "cell_type": "code",
   "execution_count": null,
   "metadata": {},
   "outputs": [],
   "source": [
    "# upper matrix\n",
    "# a * x = b\n",
    "# u = a^(-1) * b\n",
    "\n",
    "a = [\n",
    "    [2, 0, 0],\n",
    "    [0, 12, 0],\n",
    "    [0, 0, 5]\n",
    "]\n",
    "\n",
    "b = [\n",
    "    [6],\n",
    "    [-35],\n",
    "    [10]\n",
    "]"
   ]
  },
  {
   "cell_type": "code",
   "execution_count": 67,
   "metadata": {},
   "outputs": [],
   "source": [
    "def upper_matrix_solve(a, b):\n",
    "    return []\n"
   ]
  },
  {
   "cell_type": "code",
   "execution_count": 68,
   "metadata": {},
   "outputs": [
    {
     "name": "stdout",
     "output_type": "stream",
     "text": [
      "[2.0, -2.9166666666666665, 3.0]\n"
     ]
    }
   ],
   "source": [
    "a = [\n",
    "    [2, 0, 0],\n",
    "    [0, 12, 0],\n",
    "    [0, 0, 5]\n",
    "]\n",
    "\n",
    "b = [\n",
    "    [6],\n",
    "    [-35],\n",
    "    [10]\n",
    "]\n",
    "\n",
    "x = diag_matrix_solve(a, b)\n",
    "\n",
    "print(x)"
   ]
  },
  {
   "cell_type": "code",
   "execution_count": null,
   "metadata": {},
   "outputs": [],
   "source": []
  }
 ],
 "metadata": {
  "kernelspec": {
   "display_name": "Python 3",
   "language": "python",
   "name": "python3"
  },
  "language_info": {
   "codemirror_mode": {
    "name": "ipython",
    "version": 3
   },
   "file_extension": ".py",
   "mimetype": "text/x-python",
   "name": "python",
   "nbconvert_exporter": "python",
   "pygments_lexer": "ipython3",
   "version": "3.6.8"
  }
 },
 "nbformat": 4,
 "nbformat_minor": 4
}
