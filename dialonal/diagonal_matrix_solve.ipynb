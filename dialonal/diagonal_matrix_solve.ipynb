{
 "cells": [
  {
   "cell_type": "code",
   "execution_count": null,
   "metadata": {},
   "outputs": [],
   "source": [
    "# input a[i][j] and b[i]\n",
    "# forwart\n",
    "# backward\n",
    "# print result"
   ]
  },
  {
   "cell_type": "code",
   "execution_count": null,
   "metadata": {},
   "outputs": [],
   "source": [
    "# for i in range(m):\n",
    "#     for j in range(n):\n",
    "#         print(a[i][j], end=' ')\n",
    "        \n",
    "#     print()\n",
    "\n",
    "\n",
    "# for row in a:\n",
    "# #     print(row)\n",
    "    \n",
    "#     for j in row:\n",
    "#         print(j, end=' ')\n",
    "    \n",
    "#     print()\n",
    "    \n",
    "# for row in b:\n",
    "#     print(row)\n"
   ]
  },
  {
   "cell_type": "code",
   "execution_count": 69,
   "metadata": {},
   "outputs": [
    {
     "name": "stdout",
     "output_type": "stream",
     "text": [
      "b_i_0: 10 : a_i_i: 5\n",
      "2.0\n",
      "b_i_0: -35 : a_i_i: 12\n",
      "-2.9166666666666665\n",
      "b_i_0: 6 : a_i_i: 2\n",
      "3.0\n",
      "\n",
      "[2.0, -2.9166666666666665, 3.0]\n"
     ]
    }
   ],
   "source": [
    "# diagonal matrix\n",
    "# a * x = b\n",
    "# x = a^(-1) * b\n",
    "\n",
    "a = [\n",
    "    [2, 0, 0],\n",
    "    [0, 12, 0],\n",
    "    [0, 0, 5]\n",
    "]\n",
    "\n",
    "b = [\n",
    "    [6],\n",
    "    [-35],\n",
    "    [10]\n",
    "]\n",
    "\n",
    "# number of rows\n",
    "m = len(a)\n",
    "# print(n)\n",
    "\n",
    "# number of cols\n",
    "n = len(a[0])\n",
    "# print(n)\n",
    "\n",
    "x = []\n",
    "\n",
    "for i in range(m-1, -1, -1):\n",
    "    b_i_0 = b[i][0]\n",
    "    print('b_i_0:', b_i_0, end=' : ')\n",
    "    \n",
    "    a_i_i = a[i][i]\n",
    "    print('a_i_i:', a_i_i , end='')\n",
    "    \n",
    "    print()\n",
    "    \n",
    "    x_i = b_i_0 / a_i_i\n",
    "    print(x_i)\n",
    "\n",
    "    x.append(x_i)\n",
    "    \n",
    "print()\n",
    "print(x)"
   ]
  },
  {
   "cell_type": "code",
   "execution_count": null,
   "metadata": {},
   "outputs": [],
   "source": [
    "# diagonal matrix\n",
    "# a * x = b\n",
    "# u = a^(-1) * b\n",
    "\n",
    "a = [\n",
    "    [2, 0, 0],\n",
    "    [0, 12, 0],\n",
    "    [0, 0, 5]\n",
    "]\n",
    "\n",
    "b = [\n",
    "    [6],\n",
    "    [-35],\n",
    "    [10]\n",
    "]"
   ]
  },
  {
   "cell_type": "code",
   "execution_count": 67,
   "metadata": {},
   "outputs": [],
   "source": [
    "def diag_matrix_solve(a, b):\n",
    "    return [b[i][0] / a[i][i] for i in range(m-1, -1, -1)]\n"
   ]
  },
  {
   "cell_type": "code",
   "execution_count": 68,
   "metadata": {},
   "outputs": [
    {
     "name": "stdout",
     "output_type": "stream",
     "text": [
      "[2.0, -2.9166666666666665, 3.0]\n"
     ]
    }
   ],
   "source": [
    "a = [\n",
    "    [2, 0, 0],\n",
    "    [0, 12, 0],\n",
    "    [0, 0, 5]\n",
    "]\n",
    "\n",
    "b = [\n",
    "    [6],\n",
    "    [-35],\n",
    "    [10]\n",
    "]\n",
    "\n",
    "x = diag_matrix_solve(a, b)\n",
    "\n",
    "print(x)"
   ]
  },
  {
   "cell_type": "code",
   "execution_count": null,
   "metadata": {},
   "outputs": [],
   "source": []
  }
 ],
 "metadata": {
  "kernelspec": {
   "display_name": "Python 3",
   "language": "python",
   "name": "python3"
  },
  "language_info": {
   "codemirror_mode": {
    "name": "ipython",
    "version": 3
   },
   "file_extension": ".py",
   "mimetype": "text/x-python",
   "name": "python",
   "nbconvert_exporter": "python",
   "pygments_lexer": "ipython3",
   "version": "3.6.9"
  }
 },
 "nbformat": 4,
 "nbformat_minor": 4
}
