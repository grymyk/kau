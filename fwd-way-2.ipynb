{
 "cells": [
  {
   "cell_type": "code",
   "execution_count": 8,
   "metadata": {},
   "outputs": [
    {
     "name": "stdout",
     "output_type": "stream",
     "text": [
      "\n",
      "k: 0\n",
      "  i: 1\n",
      "    j: 1\n",
      "    j: 2\n",
      "    j: 3\n",
      "\n",
      "  i: 2\n",
      "    j: 1\n",
      "    j: 2\n",
      "    j: 3\n",
      "\n",
      "\n",
      "k: 1\n",
      "  i: 2\n",
      "    j: 2\n",
      "    j: 3\n",
      "\n",
      "matrix:\n",
      "[1, -2, 2, 3]\n",
      "[0, 2, -4, -20]\n",
      "[0, 0, 6, 84]\n"
     ]
    }
   ],
   "source": [
    "def show_matrix(matrix):\n",
    "    print('matrix:')\n",
    "    \n",
    "    for row in matrix:\n",
    "        print(row)\n",
    "\n",
    "a = [\n",
    "    [1, -2, 2, 3],\n",
    "    [-5, 12, -14, -35],\n",
    "    [6, -7, 5, 10]\n",
    "]\n",
    "\n",
    "#\n",
    "#  a[0][0] must be equal one (a[0][0] = 1)\n",
    "#\n",
    "#  a_ij = a[k][k] * a[i][j] - a[k][j] * a[i][k]\n",
    "# \n",
    "#  m = len(a)\n",
    "#  n = len(a[0])\n",
    "# \n",
    "#  k = 0\n",
    "#  i = [k + 1, m]\n",
    "#  j = [k, n] or [k + 1, n]\n",
    "#\n",
    "\n",
    "def fwd_way(a):\n",
    "    m = len(a)\n",
    "    n = len(a[0])\n",
    "    k_stop = m - 1\n",
    "    \n",
    "    for k in range(0, k_stop):\n",
    "        print('\\nk:', k)\n",
    "        \n",
    "        i_start = k+1\n",
    "\n",
    "        for i in range(i_start, m):\n",
    "            print('  i:', i)\n",
    "\n",
    "            # temp = [0] * n \n",
    "            temp = [None] * n\n",
    "\n",
    "            # for j in range(k+1, n):\n",
    "            for j in range(k, n):\n",
    "                print('    j:', j)\n",
    "                \n",
    "#                 print(a[k][k], end=' ')\n",
    "#                 print(a[i][j], end=' ')\n",
    "#                 print(a[k][j], end=' ')\n",
    "#                 print(a[i][k], end=' ')\n",
    "#                 print()\n",
    "\n",
    "                a_ij = a[k][k] * a[i][j] - a[k][j] * a[i][k]\n",
    "                temp[j] = a_ij\n",
    "\n",
    "#                 print(':', a_ij)\n",
    "\n",
    "            for j in range(k, n):\n",
    "#                 print('j:', j)\n",
    "                \n",
    "                a[i][j] = temp[j]\n",
    "\n",
    "            print()\n",
    "#             show_matrix(a)\n",
    "\n",
    "k_stop = 2\n",
    "\n",
    "fwd_way(a)\n",
    "\n",
    "show_matrix(a)"
   ]
  },
  {
   "cell_type": "code",
   "execution_count": 61,
   "metadata": {},
   "outputs": [
    {
     "name": "stdout",
     "output_type": "stream",
     "text": [
      "[None, -2, 2, 3]\n"
     ]
    }
   ],
   "source": [
    "b = [\n",
    "    [1, -2, 2, 3],\n",
    "]\n",
    "\n",
    "n = len(b[0])\n",
    "\n",
    "tmp = [None] * n\n",
    "# print(tmp)\n",
    "\n",
    "\n",
    "for j in range(1, n):\n",
    "#     print(b[0][i])\n",
    "#     print(tmp[i])\n",
    "    \n",
    "    tmp[j] = b[0][j]\n",
    "    \n",
    "print(tmp)\n"
   ]
  },
  {
   "cell_type": "code",
   "execution_count": null,
   "metadata": {},
   "outputs": [],
   "source": []
  },
  {
   "cell_type": "code",
   "execution_count": null,
   "metadata": {},
   "outputs": [],
   "source": []
  }
 ],
 "metadata": {
  "kernelspec": {
   "display_name": "Python 3",
   "language": "python",
   "name": "python3"
  },
  "language_info": {
   "codemirror_mode": {
    "name": "ipython",
    "version": 3
   },
   "file_extension": ".py",
   "mimetype": "text/x-python",
   "name": "python",
   "nbconvert_exporter": "python",
   "pygments_lexer": "ipython3",
   "version": "3.6.8"
  }
 },
 "nbformat": 4,
 "nbformat_minor": 4
}
